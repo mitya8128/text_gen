{
 "cells": [
  {
   "cell_type": "code",
   "execution_count": 1,
   "metadata": {},
   "outputs": [],
   "source": [
    "from textgenrnn import textgenrnn\n",
    "import jamspell\n",
    "\n",
    "import re\n",
    "import regex\n",
    "\n",
    "import string"
   ]
  },
  {
   "cell_type": "code",
   "execution_count": 2,
   "metadata": {},
   "outputs": [
    {
     "data": {
      "text/plain": [
       "True"
      ]
     },
     "execution_count": 2,
     "metadata": {},
     "output_type": "execute_result"
    }
   ],
   "source": [
    "corrector = jamspell.TSpellCorrector()\n",
    "corrector.LoadLangModel('/home/mitya/PycharmProjects/text_gen/models/ru_small.bin')"
   ]
  },
  {
   "cell_type": "code",
   "execution_count": 3,
   "metadata": {},
   "outputs": [],
   "source": [
    "textgen = textgenrnn('/home/mitya/PycharmProjects/text_gen/models/bashe_300.hdf5')"
   ]
  },
  {
   "cell_type": "code",
   "execution_count": 4,
   "metadata": {},
   "outputs": [],
   "source": [
    "# large model, need more comppower\n",
    "#model = KeyedVectors.load('/home/mitya/PycharmProjects/text_gen/models/187/model.model')"
   ]
  },
  {
   "cell_type": "code",
   "execution_count": 5,
   "metadata": {
    "scrolled": true
   },
   "outputs": [],
   "source": [
    "letters = \"А,Б,В,Г,Д,Е,Ё,Ж,З,И,Й,К,Л,М,Н,О,П,Р,С,Т,У,Ф,Х,Ц,Ч,Ш,Щ,Ъ,Ы,Ь,Э,Ю,Я\"\n",
    "letters = letters.lower()\n",
    "letters = letters.split(',')"
   ]
  },
  {
   "cell_type": "code",
   "execution_count": 54,
   "metadata": {},
   "outputs": [],
   "source": [
    "\n",
    "def hokku_str(n):\n",
    "    hokku = []\n",
    "    for i in range(n):\n",
    "        hokku.append(textgen.generate(return_as_list=True, temperature=1.0))\n",
    "    \n",
    "    while([''] in hokku) : \n",
    "        hokku.remove(['']) \n",
    "    \n",
    "    hokku = list(filter(None, hokku))\n",
    "\n",
    "    hokku_str = ''.join(map(str, hokku))\n",
    "    hokku_str = hokku_str.replace('[','').replace(']', '').replace('    ', '')\n",
    "    hokku_str = hokku_str.split(\"'\")\n",
    "    \n",
    "    return hokku_str\n",
    "\n",
    "\n",
    "def delete_empty(letters, x): \n",
    "    for letter in letters:\n",
    "        if  letter in x: \n",
    "            return True\n",
    "        else: \n",
    "            return False\n",
    "\n",
    "        \n",
    "def correct(poems):\n",
    "    for i in range(len(poems)):\n",
    "        for j in range(len(poems[i])):\n",
    "            poems[i][j] = corrector.FixFragment(str(poems[i][j]))\n",
    "    return poems"
   ]
  },
  {
   "cell_type": "code",
   "execution_count": 8,
   "metadata": {},
   "outputs": [],
   "source": [
    "test = hokku_str(25)"
   ]
  },
  {
   "cell_type": "code",
   "execution_count": 9,
   "metadata": {},
   "outputs": [
    {
     "data": {
      "text/plain": [
       "['',\n",
       " 'Воды урчание…',\n",
       " '',\n",
       " 'азве вы тое из тех,',\n",
       " '',\n",
       " 'ве девуки…',\n",
       " '',\n",
       " 'Мой одинокий стон.',\n",
       " '',\n",
       " 'Стелет постель ему ветер…',\n",
       " '',\n",
       " 'Повисли капли додя…',\n",
       " '',\n",
       " '',\n",
       " '',\n",
       " 'асставаясь с другом',\n",
       " '',\n",
       " 'два-едва я добрел,',\n",
       " '',\n",
       " 'Он у не станет… апрасно дроит',\n",
       " '',\n",
       " 'Какое блаенство!',\n",
       " '']"
      ]
     },
     "execution_count": 9,
     "metadata": {},
     "output_type": "execute_result"
    }
   ],
   "source": [
    "test"
   ]
  },
  {
   "cell_type": "code",
   "execution_count": 18,
   "metadata": {},
   "outputs": [
    {
     "data": {
      "text/plain": [
       "'Повисли капли додя…'"
      ]
     },
     "execution_count": 18,
     "metadata": {},
     "output_type": "execute_result"
    }
   ],
   "source": [
    "test[11]"
   ]
  },
  {
   "cell_type": "code",
   "execution_count": 17,
   "metadata": {},
   "outputs": [
    {
     "data": {
      "text/plain": [
       "'Повисли капли дождя…'"
      ]
     },
     "execution_count": 17,
     "metadata": {},
     "output_type": "execute_result"
    }
   ],
   "source": [
    "corrector.FixFragment(test[11])"
   ]
  },
  {
   "cell_type": "code",
   "execution_count": 12,
   "metadata": {},
   "outputs": [
    {
     "data": {
      "text/plain": [
       "'Скелет постель ему ветер…'"
      ]
     },
     "execution_count": 12,
     "metadata": {},
     "output_type": "execute_result"
    }
   ],
   "source": [
    "corrector.FixFragment(test[9])"
   ]
  },
  {
   "cell_type": "code",
   "execution_count": 13,
   "metadata": {},
   "outputs": [
    {
     "data": {
      "text/plain": [
       "False"
      ]
     },
     "execution_count": 13,
     "metadata": {},
     "output_type": "execute_result"
    }
   ],
   "source": [
    "delete_empty(letters, test[0])"
   ]
  },
  {
   "cell_type": "code",
   "execution_count": 14,
   "metadata": {},
   "outputs": [
    {
     "data": {
      "text/plain": [
       "True"
      ]
     },
     "execution_count": 14,
     "metadata": {},
     "output_type": "execute_result"
    }
   ],
   "source": [
    "delete_empty(letters, test[1])"
   ]
  },
  {
   "cell_type": "code",
   "execution_count": 15,
   "metadata": {},
   "outputs": [],
   "source": [
    "filtered_list = [element for element in test if delete_empty(letters, element) == True]"
   ]
  },
  {
   "cell_type": "code",
   "execution_count": 16,
   "metadata": {},
   "outputs": [
    {
     "data": {
      "text/plain": [
       "['Воды урчание…',\n",
       " 'азве вы тое из тех,',\n",
       " 'Повисли капли додя…',\n",
       " 'асставаясь с другом',\n",
       " 'два-едва я добрел,',\n",
       " 'Он у не станет… апрасно дроит',\n",
       " 'Какое блаенство!']"
      ]
     },
     "execution_count": 16,
     "metadata": {},
     "output_type": "execute_result"
    }
   ],
   "source": [
    "filtered_list"
   ]
  },
  {
   "cell_type": "code",
   "execution_count": 50,
   "metadata": {},
   "outputs": [],
   "source": [
    "poems = [None]\n",
    "for i in range(20):\n",
    "    poems[i] = hokku_str(25)\n",
    "    poems.append(poems[i])"
   ]
  },
  {
   "cell_type": "code",
   "execution_count": 51,
   "metadata": {},
   "outputs": [],
   "source": [
    "for i in range(len(poems)):\n",
    "    poems[i] = [element for element in poems[i] if delete_empty(letters, element) == True]"
   ]
  },
  {
   "cell_type": "code",
   "execution_count": 52,
   "metadata": {},
   "outputs": [
    {
     "data": {
      "text/plain": [
       "['Как сновиденье.',\n",
       " 'вонким ударом в чае',\n",
       " 'иь, как похороела!',\n",
       " 'Сломанных хризантемах.',\n",
       " 'О печаль!',\n",
       " 'Пока не свалимся с ног.',\n",
       " 'Маленький краб.',\n",
       " 'А под ним – за пределами бури –']"
      ]
     },
     "execution_count": 52,
     "metadata": {},
     "output_type": "execute_result"
    }
   ],
   "source": [
    "poems[1]"
   ]
  },
  {
   "cell_type": "code",
   "execution_count": 55,
   "metadata": {},
   "outputs": [
    {
     "data": {
      "text/plain": [
       "['а земл летят,',\n",
       " 'Пугат их, гонят с полей!',\n",
       " 'буясь прекрасным, я ил как хотел.',\n",
       " 'а чубине',\n",
       " 'С ветки на ветку ивы',\n",
       " 'а земле едва евелится',\n",
       " 'онари ночных стороей']"
      ]
     },
     "execution_count": 55,
     "metadata": {},
     "output_type": "execute_result"
    }
   ],
   "source": [
    "poems[19]"
   ]
  },
  {
   "cell_type": "code",
   "execution_count": 56,
   "metadata": {},
   "outputs": [
    {
     "name": "stdout",
     "output_type": "stream",
     "text": [
      "CPU times: user 97.9 ms, sys: 7 µs, total: 97.9 ms\n",
      "Wall time: 96.9 ms\n"
     ]
    }
   ],
   "source": [
    "%%time\n",
    "poems = correct(poems)"
   ]
  },
  {
   "cell_type": "code",
   "execution_count": 58,
   "metadata": {},
   "outputs": [
    {
     "data": {
      "text/plain": [
       "['а земли летят,',\n",
       " 'Пугает их, гонят с полей!',\n",
       " 'боясь прекрасным, я и как хотел.',\n",
       " 'а чубине',\n",
       " 'С ветки на ветку ивы',\n",
       " 'а земле едва евелится',\n",
       " 'фонари ночных стороей']"
      ]
     },
     "execution_count": 58,
     "metadata": {},
     "output_type": "execute_result"
    }
   ],
   "source": [
    "poems[19]"
   ]
  },
  {
   "cell_type": "code",
   "execution_count": null,
   "metadata": {},
   "outputs": [],
   "source": [
    "#TODO\n",
    "# different spellcheckers\n",
    "# some comsistency metric (maybe based on embedding)"
   ]
  }
 ],
 "metadata": {
  "kernelspec": {
   "display_name": "Python 3",
   "language": "python",
   "name": "python3"
  },
  "language_info": {
   "codemirror_mode": {
    "name": "ipython",
    "version": 3
   },
   "file_extension": ".py",
   "mimetype": "text/x-python",
   "name": "python",
   "nbconvert_exporter": "python",
   "pygments_lexer": "ipython3",
   "version": "3.7.7"
  }
 },
 "nbformat": 4,
 "nbformat_minor": 4
}
