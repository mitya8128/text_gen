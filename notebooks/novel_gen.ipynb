{
 "cells": [
  {
   "cell_type": "code",
   "execution_count": 1,
   "metadata": {},
   "outputs": [],
   "source": [
    "from textgenrnn import textgenrnn\n",
    "import jamspell\n",
    "\n",
    "from collections import Counter"
   ]
  },
  {
   "cell_type": "code",
   "execution_count": 2,
   "metadata": {},
   "outputs": [
    {
     "data": {
      "text/plain": [
       "True"
      ]
     },
     "execution_count": 2,
     "metadata": {},
     "output_type": "execute_result"
    }
   ],
   "source": [
    "corrector = jamspell.TSpellCorrector()\n",
    "corrector.LoadLangModel('/home/mitya/PycharmProjects/text_gen/models/ru_small.bin')"
   ]
  },
  {
   "cell_type": "code",
   "execution_count": 3,
   "metadata": {},
   "outputs": [],
   "source": [
    "textgen = textgenrnn('/home/mitya/PycharmProjects/text_gen/models/bashe_300.hdf5')"
   ]
  },
  {
   "cell_type": "code",
   "execution_count": 4,
   "metadata": {},
   "outputs": [],
   "source": [
    "# large model, need more comppower\n",
    "#model = KeyedVectors.load('/home/mitya/PycharmProjects/text_gen/models/187/model.model')"
   ]
  },
  {
   "cell_type": "code",
   "execution_count": 5,
   "metadata": {
    "scrolled": true
   },
   "outputs": [],
   "source": [
    "letters = \"А,Б,В,Г,Д,Е,Ё,Ж,З,И,Й,К,Л,М,Н,О,П,Р,С,Т,У,Ф,Х,Ц,Ч,Ш,Щ,Ъ,Ы,Ь,Э,Ю,Я\"\n",
    "letters = letters.lower()\n",
    "letters = letters.split(',')"
   ]
  },
  {
   "cell_type": "code",
   "execution_count": 6,
   "metadata": {},
   "outputs": [],
   "source": [
    "\n",
    "def hokku_str(n):\n",
    "    hokku = []\n",
    "    for i in range(n):\n",
    "        hokku.append(textgen.generate(return_as_list=True, temperature=1.0))\n",
    "    \n",
    "    while([''] in hokku) : \n",
    "        hokku.remove(['']) \n",
    "    \n",
    "    hokku = list(filter(None, hokku))\n",
    "\n",
    "    hokku_str = ''.join(map(str, hokku))\n",
    "    hokku_str = hokku_str.replace('[','').replace(']', '').replace('    ', '')\n",
    "    hokku_str = hokku_str.split(\"'\")\n",
    "    \n",
    "    return hokku_str\n",
    "\n",
    "\n",
    "def generate_poems(num_poems, num_str):\n",
    "    '''generate list of poems'''\n",
    "    poems = [None]\n",
    "    for i in range(num_poems):\n",
    "        poems[i] = hokku_str(num_str)\n",
    "        poems.append(poems[i])\n",
    "    return poems\n",
    "\n",
    "    \n",
    "def delete_empty(letters, x): \n",
    "    for letter in letters:\n",
    "        if  letter in x: \n",
    "            return True\n",
    "        else: \n",
    "            return False\n",
    "\n",
    "\n",
    "def filter_empty(poems):\n",
    "    '''filter empty lists'''\n",
    "    for i in range(len(poems)):\n",
    "        poems[i] = [element for element in poems[i] if delete_empty(letters, element) == True]\n",
    "    return poems\n",
    "\n",
    "        \n",
    "def correct(poems):\n",
    "    for i in range(len(poems)):\n",
    "        for j in range(len(poems[i])):\n",
    "            poems[i][j] = corrector.FixFragment(str(poems[i][j]))\n",
    "    return poems\n",
    "\n",
    "\n",
    "def generate_end():\n",
    "    text = generate_poems(num_poems, num_str)\n",
    "    result = filter_empty(text)\n",
    "    result = correct(result)\n",
    "    return result\n"
   ]
  },
  {
   "cell_type": "code",
   "execution_count": 23,
   "metadata": {},
   "outputs": [],
   "source": [
    "num_str = 10\n",
    "num_poems = 1"
   ]
  },
  {
   "cell_type": "code",
   "execution_count": 8,
   "metadata": {},
   "outputs": [],
   "source": [
    "text = generate_end()"
   ]
  },
  {
   "cell_type": "code",
   "execution_count": 9,
   "metadata": {},
   "outputs": [
    {
     "data": {
      "text/plain": [
       "[['Медленно выползает пчела…', 'Слово ска-', 'Под тим славным летом'],\n",
       " ['веры «пастуьей сумки»', 'гкий звон икад.'],\n",
       " ['а самом гребне перевала.', 'разве вы то из тех,', 'долгий день напролт'],\n",
       " ['а самом гребне перевала.', 'разве вы то из тех,', 'долгий день напролт']]"
      ]
     },
     "execution_count": 9,
     "metadata": {},
     "output_type": "execute_result"
    }
   ],
   "source": [
    "text"
   ]
  },
  {
   "cell_type": "code",
   "execution_count": 10,
   "metadata": {},
   "outputs": [],
   "source": [
    "def list2string(s):\n",
    "    str1 = \" \"    \n",
    "    return (str1.join(s)) \n"
   ]
  },
  {
   "cell_type": "code",
   "execution_count": 11,
   "metadata": {},
   "outputs": [],
   "source": [
    "def count_words(text):\n",
    "    b = 0\n",
    "    for i in range(len(text)):\n",
    "        a = len(list2string(text[i]).split())\n",
    "        b += a\n",
    "    return b\n",
    "\n",
    "\n",
    "def count_words_cmplx(text):\n",
    "    c = 0\n",
    "    for i in range(len(text)):\n",
    "        e = count_words(text[i])\n",
    "        c += e\n",
    "    return c"
   ]
  },
  {
   "cell_type": "code",
   "execution_count": 12,
   "metadata": {},
   "outputs": [
    {
     "name": "stdout",
     "output_type": "stream",
     "text": [
      "9\n",
      "6\n",
      "12\n",
      "12\n"
     ]
    }
   ],
   "source": [
    "for i in range(len(text)):\n",
    "    print(len(list2string(text[i]).split()))"
   ]
  },
  {
   "cell_type": "code",
   "execution_count": 13,
   "metadata": {},
   "outputs": [
    {
     "data": {
      "text/plain": [
       "39"
      ]
     },
     "execution_count": 13,
     "metadata": {},
     "output_type": "execute_result"
    }
   ],
   "source": [
    "count_words(text)"
   ]
  },
  {
   "cell_type": "code",
   "execution_count": 14,
   "metadata": {},
   "outputs": [],
   "source": [
    "# generate poems up until some limit in words\n",
    "\n",
    "def generate_novel(limit):\n",
    "    text = []\n",
    "    n_words = 0\n",
    "    while True:\n",
    "        #text[i] = generate_end()\n",
    "        text.append(generate_end())\n",
    "        n_words = count_words_cmplx(text)\n",
    "    \n",
    "        if n_words > limit:\n",
    "            break\n",
    "    return text\n"
   ]
  },
  {
   "cell_type": "code",
   "execution_count": 15,
   "metadata": {},
   "outputs": [],
   "source": [
    "def generate_novel_test(n):\n",
    "    text = []\n",
    "    n_words = 0\n",
    "    for i in range(n):\n",
    "        #text[i] = generate_end()\n",
    "        text.append(generate_end())\n",
    "        \n",
    "    return text\n"
   ]
  },
  {
   "cell_type": "code",
   "execution_count": 16,
   "metadata": {},
   "outputs": [],
   "source": [
    "test = generate_novel_test(3)"
   ]
  },
  {
   "cell_type": "code",
   "execution_count": 33,
   "metadata": {},
   "outputs": [
    {
     "data": {
      "text/plain": [
       "3"
      ]
     },
     "execution_count": 33,
     "metadata": {},
     "output_type": "execute_result"
    }
   ],
   "source": [
    "len(test)"
   ]
  },
  {
   "cell_type": "code",
   "execution_count": 31,
   "metadata": {},
   "outputs": [
    {
     "data": {
      "text/plain": [
       "175"
      ]
     },
     "execution_count": 31,
     "metadata": {},
     "output_type": "execute_result"
    }
   ],
   "source": [
    "count_words(test[0]) + count_words(test[1]) + count_words(test[2])"
   ]
  },
  {
   "cell_type": "code",
   "execution_count": 32,
   "metadata": {},
   "outputs": [
    {
     "data": {
      "text/plain": [
       "175"
      ]
     },
     "execution_count": 32,
     "metadata": {},
     "output_type": "execute_result"
    }
   ],
   "source": [
    "count_words_cmplx(test)"
   ]
  },
  {
   "cell_type": "code",
   "execution_count": 24,
   "metadata": {},
   "outputs": [],
   "source": [
    "text = generate_novel(100)"
   ]
  },
  {
   "cell_type": "code",
   "execution_count": 47,
   "metadata": {},
   "outputs": [],
   "source": [
    "text_str = str(text)"
   ]
  },
  {
   "cell_type": "code",
   "execution_count": 48,
   "metadata": {},
   "outputs": [],
   "source": [
    "text_str = text_str.replace(']', '***')\n",
    "text_str = text_str.replace(',', ',\\n')\n",
    "text_str = text_str.replace('–', '')\n",
    "text_str = text_str.replace('[', '')"
   ]
  },
  {
   "cell_type": "code",
   "execution_count": 52,
   "metadata": {},
   "outputs": [
    {
     "data": {
      "text/plain": [
       "\"'В две тоска евельнется…',\\n 'два-едва я обрел,\\n',\\n 'Возле дома,\\n где не стало хозяйки,\\n'***,\\n 'В две тоска евельнется…',\\n 'два-едва я обрел,\\n',\\n 'Возле дома,\\n где не стало хозяйки,\\n'******,\\n 'а земле едва евелится',\\n 'а легкий колос хватать…',\\n 'Стань товарищем моим,\\n',\\n 'Майских долей пора.'***,\\n 'а земле едва евелится',\\n 'а легкий колос хватать…',\\n 'Стань товарищем моим,\\n',\\n 'Майских долей пора.'******,\\n 'И кажется мне,\\n соловей на ветке ',\\n 'Коне оставил кот'***,\\n 'И кажется мне,\\n соловей на ветке ',\\n 'Коне оставил кот'******,\\n 'Покидая родину',\\n 'Колокол смолк вдалеке,\\n',\\n 'уна,\\n заглянув в окно.',\\n 'очная тишина.'***,\\n 'Покидая родину',\\n 'Колокол смолк вдалеке,\\n',\\n 'уна,\\n заглянув в окно.',\\n 'очная тишина.'******,\\n 'Поздравить к постели моей.',\\n 'Вторит ему азан.',\\n 'Вижу себя на картине ',\\n 'Прозрачная дымка.'***,\\n 'Поздравить к постели моей.',\\n 'Вторит ему азан.',\\n 'Вижу себя на картине ',\\n 'Прозрачная дымка.'*********\""
      ]
     },
     "execution_count": 52,
     "metadata": {},
     "output_type": "execute_result"
    }
   ],
   "source": [
    "text_str"
   ]
  },
  {
   "cell_type": "code",
   "execution_count": 55,
   "metadata": {},
   "outputs": [],
   "source": [
    "with open('test.txt', 'wt') as output_file:\n",
    "    output_file.write(text_str)\n",
    "    output_file.close()"
   ]
  },
  {
   "cell_type": "code",
   "execution_count": null,
   "metadata": {},
   "outputs": [],
   "source": [
    "def postprocess(text):\n",
    "    text_str = str(text)\n",
    "    text_str = text_str.replace(']', '***')\n",
    "    text_str = text_str.replace(',', ',\\n')\n",
    "    text_str = text_str.replace('–', '')\n",
    "    text_str = text_str.replace('[', '')\n",
    "    with open('test.txt', 'wt') as output_file:\n",
    "        output_file.write(text_str)\n",
    "        output_file.close()"
   ]
  },
  {
   "cell_type": "code",
   "execution_count": 22,
   "metadata": {},
   "outputs": [],
   "source": [
    "# TODO\n",
    "# make poem-like string instead of list of lists\n",
    "# if num_str = arbitrary and num_poems = 1 : place *** after every ]"
   ]
  }
 ],
 "metadata": {
  "kernelspec": {
   "display_name": "Python 3",
   "language": "python",
   "name": "python3"
  },
  "language_info": {
   "codemirror_mode": {
    "name": "ipython",
    "version": 3
   },
   "file_extension": ".py",
   "mimetype": "text/x-python",
   "name": "python",
   "nbconvert_exporter": "python",
   "pygments_lexer": "ipython3",
   "version": "3.7.7"
  }
 },
 "nbformat": 4,
 "nbformat_minor": 4
}
