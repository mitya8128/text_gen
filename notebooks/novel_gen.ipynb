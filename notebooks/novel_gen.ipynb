{
 "cells": [
  {
   "cell_type": "code",
   "execution_count": 1,
   "metadata": {},
   "outputs": [],
   "source": [
    "from textgenrnn import textgenrnn\n",
    "import jamspell\n",
    "\n",
    "import re\n",
    "import regex\n",
    "\n",
    "import string"
   ]
  },
  {
   "cell_type": "code",
   "execution_count": 2,
   "metadata": {},
   "outputs": [
    {
     "data": {
      "text/plain": [
       "True"
      ]
     },
     "execution_count": 2,
     "metadata": {},
     "output_type": "execute_result"
    }
   ],
   "source": [
    "corrector = jamspell.TSpellCorrector()\n",
    "corrector.LoadLangModel('/home/mitya/PycharmProjects/text_gen/models/ru_small.bin')"
   ]
  },
  {
   "cell_type": "code",
   "execution_count": 3,
   "metadata": {},
   "outputs": [],
   "source": [
    "textgen = textgenrnn('/home/mitya/PycharmProjects/text_gen/models/bashe_300.hdf5')"
   ]
  },
  {
   "cell_type": "code",
   "execution_count": 4,
   "metadata": {},
   "outputs": [],
   "source": [
    "# large model, need more comppower\n",
    "#model = KeyedVectors.load('/home/mitya/PycharmProjects/text_gen/models/187/model.model')"
   ]
  },
  {
   "cell_type": "code",
   "execution_count": 5,
   "metadata": {
    "scrolled": true
   },
   "outputs": [],
   "source": [
    "letters = \"А,Б,В,Г,Д,Е,Ё,Ж,З,И,Й,К,Л,М,Н,О,П,Р,С,Т,У,Ф,Х,Ц,Ч,Ш,Щ,Ъ,Ы,Ь,Э,Ю,Я\"\n",
    "letters = letters.lower()\n",
    "letters = letters.split(',')"
   ]
  },
  {
   "cell_type": "code",
   "execution_count": 13,
   "metadata": {},
   "outputs": [],
   "source": [
    "\n",
    "def hokku_str(n):\n",
    "    hokku = []\n",
    "    for i in range(n):\n",
    "        hokku.append(textgen.generate(return_as_list=True, temperature=1.0))\n",
    "    \n",
    "    while([''] in hokku) : \n",
    "        hokku.remove(['']) \n",
    "    \n",
    "    hokku = list(filter(None, hokku))\n",
    "\n",
    "    hokku_str = ''.join(map(str, hokku))\n",
    "    hokku_str = hokku_str.replace('[','').replace(']', '').replace('    ', '')\n",
    "    hokku_str = hokku_str.split(\"'\")\n",
    "    \n",
    "    return hokku_str\n",
    "\n",
    "\n",
    "def generate_poems(num_poems, num_str):\n",
    "    '''generate list of poems'''\n",
    "    poems = [None]\n",
    "    for i in range(num_poems):\n",
    "        poems[i] = hokku_str(num_str)\n",
    "        poems.append(poems[i])\n",
    "    return poems\n",
    "\n",
    "    \n",
    "def delete_empty(letters, x): \n",
    "    for letter in letters:\n",
    "        if  letter in x: \n",
    "            return True\n",
    "        else: \n",
    "            return False\n",
    "\n",
    "\n",
    "def filter_empty(poems):\n",
    "    '''filter empty lists'''\n",
    "    for i in range(len(poems)):\n",
    "        poems[i] = [element for element in poems[i] if delete_empty(letters, element) == True]\n",
    "    return poems\n",
    "\n",
    "        \n",
    "def correct(poems):\n",
    "    for i in range(len(poems)):\n",
    "        for j in range(len(poems[i])):\n",
    "            poems[i][j] = corrector.FixFragment(str(poems[i][j]))\n",
    "    return poems\n",
    "\n",
    "\n",
    "def generate_end():\n",
    "    text = generate_poems(num_poems, num_str)\n",
    "    result = filter_empty(text)\n",
    "    result = correct(result)\n",
    "    return result\n"
   ]
  },
  {
   "cell_type": "code",
   "execution_count": 11,
   "metadata": {},
   "outputs": [],
   "source": [
    "num_str = 10\n",
    "num_poems = 3"
   ]
  },
  {
   "cell_type": "code",
   "execution_count": 14,
   "metadata": {},
   "outputs": [
    {
     "name": "stdout",
     "output_type": "stream",
     "text": [
      "CPU times: user 12 s, sys: 575 ms, total: 12.5 s\n",
      "Wall time: 11.4 s\n"
     ]
    },
    {
     "data": {
      "text/plain": [
       "[[' позабытого дома.'],\n",
       " ['О, сколько их на полях!',\n",
       "  'Словно тот старый дуб.',\n",
       "  'Как свет ветер осенний!'],\n",
       " ['абочкой никогда', 'ез трудов и забот…', 'о откуда брызут капли?'],\n",
       " ['абочкой никогда', 'ез трудов и забот…', 'о откуда брызут капли?']]"
      ]
     },
     "execution_count": 14,
     "metadata": {},
     "output_type": "execute_result"
    }
   ],
   "source": [
    "%%time\n",
    "generate_end()"
   ]
  },
  {
   "cell_type": "code",
   "execution_count": 7,
   "metadata": {},
   "outputs": [],
   "source": [
    "# poems = [None]\n",
    "# for i in range(20):\n",
    "#     poems[i] = hokku_str(25)\n",
    "#     poems.append(poems[i])"
   ]
  },
  {
   "cell_type": "code",
   "execution_count": 8,
   "metadata": {},
   "outputs": [],
   "source": [
    "# for i in range(len(poems)):\n",
    "#     poems[i] = [element for element in poems[i] if delete_empty(letters, element) == True]"
   ]
  },
  {
   "cell_type": "code",
   "execution_count": 9,
   "metadata": {},
   "outputs": [],
   "source": [
    "# poems_f = filter_empty(poems)"
   ]
  },
  {
   "cell_type": "code",
   "execution_count": 10,
   "metadata": {},
   "outputs": [],
   "source": [
    "#TODO\n",
    "# different spellcheckers\n",
    "# some comsistency metric (maybe based on embedding)"
   ]
  }
 ],
 "metadata": {
  "kernelspec": {
   "display_name": "Python 3",
   "language": "python",
   "name": "python3"
  },
  "language_info": {
   "codemirror_mode": {
    "name": "ipython",
    "version": 3
   },
   "file_extension": ".py",
   "mimetype": "text/x-python",
   "name": "python",
   "nbconvert_exporter": "python",
   "pygments_lexer": "ipython3",
   "version": "3.7.7"
  }
 },
 "nbformat": 4,
 "nbformat_minor": 4
}
