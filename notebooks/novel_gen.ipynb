{
 "cells": [
  {
   "cell_type": "code",
   "execution_count": 18,
   "metadata": {},
   "outputs": [],
   "source": [
    "from textgenrnn import textgenrnn\n",
    "import jamspell\n",
    "\n",
    "from collections import Counter"
   ]
  },
  {
   "cell_type": "code",
   "execution_count": 2,
   "metadata": {},
   "outputs": [
    {
     "data": {
      "text/plain": [
       "True"
      ]
     },
     "execution_count": 2,
     "metadata": {},
     "output_type": "execute_result"
    }
   ],
   "source": [
    "corrector = jamspell.TSpellCorrector()\n",
    "corrector.LoadLangModel('/home/mitya/PycharmProjects/text_gen/models/ru_small.bin')"
   ]
  },
  {
   "cell_type": "code",
   "execution_count": 3,
   "metadata": {},
   "outputs": [],
   "source": [
    "textgen = textgenrnn('/home/mitya/PycharmProjects/text_gen/models/bashe_300.hdf5')"
   ]
  },
  {
   "cell_type": "code",
   "execution_count": 4,
   "metadata": {},
   "outputs": [],
   "source": [
    "# large model, need more comppower\n",
    "#model = KeyedVectors.load('/home/mitya/PycharmProjects/text_gen/models/187/model.model')"
   ]
  },
  {
   "cell_type": "code",
   "execution_count": 5,
   "metadata": {
    "scrolled": true
   },
   "outputs": [],
   "source": [
    "letters = \"А,Б,В,Г,Д,Е,Ё,Ж,З,И,Й,К,Л,М,Н,О,П,Р,С,Т,У,Ф,Х,Ц,Ч,Ш,Щ,Ъ,Ы,Ь,Э,Ю,Я\"\n",
    "letters = letters.lower()\n",
    "letters = letters.split(',')"
   ]
  },
  {
   "cell_type": "code",
   "execution_count": 70,
   "metadata": {},
   "outputs": [],
   "source": [
    "\n",
    "def hokku_str(n):\n",
    "    hokku = []\n",
    "    for i in range(n):\n",
    "        hokku.append(textgen.generate(return_as_list=True, temperature=1.0))\n",
    "    \n",
    "    while([''] in hokku) : \n",
    "        hokku.remove(['']) \n",
    "    \n",
    "    hokku = list(filter(None, hokku))\n",
    "\n",
    "    hokku_str = ''.join(map(str, hokku))\n",
    "    hokku_str = hokku_str.replace('[','').replace(']', '').replace('    ', '')\n",
    "    hokku_str = hokku_str.split(\"'\")\n",
    "    \n",
    "    return hokku_str\n",
    "\n",
    "\n",
    "def generate_poems(num_poems, num_str):\n",
    "    '''generate list of poems'''\n",
    "    poems = [None]\n",
    "    for i in range(num_poems):\n",
    "        poems[i] = hokku_str(num_str)\n",
    "        poems.append(poems[i])\n",
    "    return poems\n",
    "\n",
    "    \n",
    "def delete_empty(letters, x): \n",
    "    for letter in letters:\n",
    "        if  letter in x: \n",
    "            return True\n",
    "        else: \n",
    "            return False\n",
    "\n",
    "\n",
    "def filter_empty(poems):\n",
    "    '''filter empty lists'''\n",
    "    for i in range(len(poems)):\n",
    "        poems[i] = [element for element in poems[i] if delete_empty(letters, element) == True]\n",
    "    return poems\n",
    "\n",
    "        \n",
    "def correct(poems):\n",
    "    for i in range(len(poems)):\n",
    "        for j in range(len(poems[i])):\n",
    "            poems[i][j] = corrector.FixFragment(str(poems[i][j]))\n",
    "    return poems\n",
    "\n",
    "\n",
    "def generate_end():\n",
    "    text = generate_poems(num_poems, num_str)\n",
    "    result = filter_empty(text)\n",
    "    result = correct(result)\n",
    "    return result\n"
   ]
  },
  {
   "cell_type": "code",
   "execution_count": 11,
   "metadata": {},
   "outputs": [],
   "source": [
    "num_str = 10\n",
    "num_poems = 3"
   ]
  },
  {
   "cell_type": "code",
   "execution_count": 71,
   "metadata": {},
   "outputs": [],
   "source": [
    "text = generate_end()"
   ]
  },
  {
   "cell_type": "code",
   "execution_count": 72,
   "metadata": {},
   "outputs": [
    {
     "data": {
      "text/plain": [
       "[['Откуда кукушки крик?', 'Как радует серде она.', 'Одной их, что транс'],\n",
       " ['Под тим славным летом',\n",
       "  'Откуда кукушки крик?',\n",
       "  'Первый лист упал…',\n",
       "  'Сквозь чау густого бамбука'],\n",
       " ['адумалась луна.'],\n",
       " ['адумалась луна.']]"
      ]
     },
     "execution_count": 72,
     "metadata": {},
     "output_type": "execute_result"
    }
   ],
   "source": [
    "text"
   ]
  },
  {
   "cell_type": "code",
   "execution_count": 39,
   "metadata": {},
   "outputs": [],
   "source": [
    "def list2string(s):\n",
    "    str1 = \" \"    \n",
    "    return (str1.join(s)) \n"
   ]
  },
  {
   "cell_type": "code",
   "execution_count": 102,
   "metadata": {},
   "outputs": [],
   "source": [
    "def count_words(text):\n",
    "    b = 0\n",
    "    for i in range(len(text)):\n",
    "        a = len(list2string(text[i]).split())\n",
    "        b += a\n",
    "    return b\n",
    "\n",
    "\n",
    "def count_words_cmplx(text):\n",
    "    c = 0\n",
    "    for i in range(len(text)):\n",
    "        e = count_words(text[i])\n",
    "        c += e\n",
    "    return c"
   ]
  },
  {
   "cell_type": "code",
   "execution_count": 73,
   "metadata": {},
   "outputs": [
    {
     "name": "stdout",
     "output_type": "stream",
     "text": [
      "11\n",
      "14\n",
      "2\n",
      "2\n"
     ]
    }
   ],
   "source": [
    "for i in range(len(text)):\n",
    "    print(len(list2string(text[i]).split()))"
   ]
  },
  {
   "cell_type": "code",
   "execution_count": 74,
   "metadata": {},
   "outputs": [
    {
     "data": {
      "text/plain": [
       "29"
      ]
     },
     "execution_count": 74,
     "metadata": {},
     "output_type": "execute_result"
    }
   ],
   "source": [
    "count_words(text)"
   ]
  },
  {
   "cell_type": "code",
   "execution_count": 104,
   "metadata": {},
   "outputs": [],
   "source": [
    "# generate poems up until some limit in words\n",
    "\n",
    "def generate_novel(limit):\n",
    "    text = []\n",
    "    n_words = 0\n",
    "    while True:\n",
    "        #text[i] = generate_end()\n",
    "        text.append(generate_end())\n",
    "        n_words = count_words_cmplx(text)\n",
    "    \n",
    "        if n_words > limit:\n",
    "            break\n",
    "    return text\n"
   ]
  },
  {
   "cell_type": "code",
   "execution_count": 83,
   "metadata": {},
   "outputs": [],
   "source": [
    "def generate_novel_test(n):\n",
    "    text = []\n",
    "    n_words = 0\n",
    "    for i in range(n):\n",
    "        #text[i] = generate_end()\n",
    "        text.append(generate_end())\n",
    "        \n",
    "    return text\n"
   ]
  },
  {
   "cell_type": "code",
   "execution_count": 85,
   "metadata": {},
   "outputs": [],
   "source": [
    "test = generate_novel_test(3)"
   ]
  },
  {
   "cell_type": "code",
   "execution_count": 86,
   "metadata": {},
   "outputs": [
    {
     "data": {
      "text/plain": [
       "3"
      ]
     },
     "execution_count": 86,
     "metadata": {},
     "output_type": "execute_result"
    }
   ],
   "source": [
    "len(test)"
   ]
  },
  {
   "cell_type": "code",
   "execution_count": 107,
   "metadata": {},
   "outputs": [
    {
     "data": {
      "text/plain": [
       "121"
      ]
     },
     "execution_count": 107,
     "metadata": {},
     "output_type": "execute_result"
    }
   ],
   "source": [
    "count_words(test[0]) + count_words(test[1]) + count_words(test[2])"
   ]
  },
  {
   "cell_type": "code",
   "execution_count": 103,
   "metadata": {},
   "outputs": [
    {
     "data": {
      "text/plain": [
       "121"
      ]
     },
     "execution_count": 103,
     "metadata": {},
     "output_type": "execute_result"
    }
   ],
   "source": [
    "count_words_cmplx(test)"
   ]
  },
  {
   "cell_type": "code",
   "execution_count": 108,
   "metadata": {},
   "outputs": [
    {
     "data": {
      "text/plain": [
       "[[['бабочки полет',\n",
       "   'соломенный плаик надеть…',\n",
       "   'Пода коровы друга',\n",
       "   'акруит, несет с собой',\n",
       "   'Как будто слезы…'],\n",
       "  ['Прощаясь с друзьями',\n",
       "   'Какая грусть!',\n",
       "   'В лугах привольных',\n",
       "   'Как тел первый снег!'],\n",
       "  ['очь напролет кругом!',\n",
       "   'Плачут птиц. лаза у рыб',\n",
       "   'расставаясь с другом',\n",
       "   'долгий день напролт'],\n",
       "  ['очь напролет кругом!',\n",
       "   'Плачут птиц. лаза у рыб',\n",
       "   'расставаясь с другом',\n",
       "   'долгий день напролт']],\n",
       " [['сть особая прелесть'],\n",
       "  ['В небе такая луна,',\n",
       "   'а склонах Каменной горы',\n",
       "   'Под снегом бамбук.',\n",
       "   'От, потерявему сына',\n",
       "   'апочку из цветов?'],\n",
       "  ['был ли он славой когда-то?', 'О вини старого сада!'],\n",
       "  ['был ли он славой когда-то?', 'О вини старого сада!']],\n",
       " [['апл по своему ниву.', 'Измученный, до ночлега…', 'ам – за бамбука'],\n",
       "  ['Возвращается к старым корням…',\n",
       "   ' коня на спине.',\n",
       "   'Стебельки лука,',\n",
       "   'Пой типу песни за чакой похлебки,'],\n",
       "  ['пала в светло волну',\n",
       "   'апочку из цветов?',\n",
       "   'Слух, как градины стучат.',\n",
       "   'Облачная гряда',\n",
       "   'Как цены молодые листья'],\n",
       "  ['пала в светло волну',\n",
       "   'апочку из цветов?',\n",
       "   'Слух, как градины стучат.',\n",
       "   'Облачная гряда',\n",
       "   'Как цены молодые листья']]]"
      ]
     },
     "execution_count": 108,
     "metadata": {},
     "output_type": "execute_result"
    }
   ],
   "source": [
    "generate_novel(100)"
   ]
  }
 ],
 "metadata": {
  "kernelspec": {
   "display_name": "Python 3",
   "language": "python",
   "name": "python3"
  },
  "language_info": {
   "codemirror_mode": {
    "name": "ipython",
    "version": 3
   },
   "file_extension": ".py",
   "mimetype": "text/x-python",
   "name": "python",
   "nbconvert_exporter": "python",
   "pygments_lexer": "ipython3",
   "version": "3.7.7"
  }
 },
 "nbformat": 4,
 "nbformat_minor": 4
}
